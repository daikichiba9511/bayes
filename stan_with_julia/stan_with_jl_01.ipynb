{
 "cells": [
  {
   "cell_type": "markdown",
   "metadata": {},
   "source": [
    "# StanとRでベイズ統計モデリング\n",
    "\n",
    "詳しい環境とかは、[こちらのmarkdown(Julia_Stan.md)](Julia_Stan.md)\n",
    "\n",
    "stan.jlを使おうと思ったけど、pystan呼び出して使うことに。。。"
   ]
  },
  {
   "cell_type": "code",
   "execution_count": 1,
   "metadata": {},
   "outputs": [
    {
     "data": {
      "text/plain": [
       "PyObject <module 'pystan' from '/usr/local/Caskroom/miniconda/base/envs/conda_jl/lib/python3.8/site-packages/pystan/__init__.py'>"
      ]
     },
     "execution_count": 1,
     "metadata": {},
     "output_type": "execute_result"
    }
   ],
   "source": [
    "# PyCallを経由してpystanのインスタンスを変数pystanにいれる。typeがPyObject\n",
    "# これでpythonと同じ感覚でモジュールのインスタンスが使えるはず。。\n",
    "using PyCall\n",
    "pystan = pyimport(\"pystan\")"
   ]
  },
  {
   "cell_type": "markdown",
   "metadata": {},
   "source": [
    "## Stanの基本的な文法\n",
    "\n",
    "\n",
    "data{<br>データの宣言<br>}<br>parameters{<br>サンプリングしたいパラメータ$\\theta$<br>}\n",
    "<br><br>model{<br>尤度$p(Y|\\theta)$<br>事前分布$p(\\theta)$<br>}\n",
    "\n",
    "### memo\n",
    "\n",
    "- stanでは、値が決まってなく、確率変数とみなせるものは全てparametersにいれる。\n",
    "- 渡辺ベイズによると、データが確率変数の観測値としてみなせるために、事後分布なんかも確率変数と言うこと。\n",
    "- 確率モデル、事前分布も自分で定義するもので事後分布も定義してるとみなす。\n",
    "\n",
    "- 著者によるとモデリングのコツは、\n",
    "     1. 最初にモデル部分を記述する\n",
    "     2. それから、dataにデータの変数を記述、残りをparametersに記述\n",
    "\n",
    "の流れで無理に初めから埋めていかないことがコツらしい。"
   ]
  },
  {
   "cell_type": "code",
   "execution_count": 2,
   "metadata": {},
   "outputs": [
    {
     "data": {
      "text/plain": [
       "\"\\ndata{\\n    int<lower=0> N; // データの数\\n    real Y[N];\\n}\\n\\nparameters{\\n    real mu;\\n}\\n\\nmodel{\\n    for (n in 1:N) {\\n        Y[n] ~ normal(mu, 1); // normal(mean, std)に注意\\n    }\\n    \\n    mu ~ normal(0, 100);\\n}\\n\\n\""
      ]
     },
     "execution_count": 2,
     "metadata": {},
     "output_type": "execute_result"
    }
   ],
   "source": [
    "model = \"\"\"\n",
    "\n",
    "data{\n",
    "    int<lower=0> N; // データの数\n",
    "    real Y[N];\n",
    "}\n",
    "\n",
    "parameters{\n",
    "    real mu;\n",
    "}\n",
    "\n",
    "model{\n",
    "    for (n in 1:N) {\n",
    "        Y[n] ~ normal(mu, 1); // normal(mean, std)に注意\n",
    "    }\n",
    "    \n",
    "    mu ~ normal(0, 100);\n",
    "}\n",
    "\n",
    "\"\"\""
   ]
  },
  {
   "cell_type": "markdown",
   "metadata": {},
   "source": [
    "- Stanはn内部で対数事後分布を使ってて、MCMC時のパラメータによる$ln\\ p(Y|\\theta^*)+ln\\ p(\\theta^*)$を .lp__内に保持している。\n",
    "\n",
    "- targetという変数を用いて直接定義することもできる"
   ]
  },
  {
   "cell_type": "code",
   "execution_count": 3,
   "metadata": {},
   "outputs": [],
   "source": [
    "using BenchmarkTools"
   ]
  },
  {
   "cell_type": "code",
   "execution_count": 4,
   "metadata": {},
   "outputs": [
    {
     "data": {
      "text/plain": [
       "fit_sm (generic function with 1 method)"
      ]
     },
     "execution_count": 4,
     "metadata": {},
     "output_type": "execute_result"
    }
   ],
   "source": [
    "function fit_sm(model::String)\n",
    "    data = Dict(\"N\"=>8, \"Y\"=>[15, 10, 16, 11, 9, 11, 10, 18])\n",
    "    sm = pystan.StanModel(model_code=model)\n",
    "    fit = sm.sampling(\n",
    "            data=data, iter=1000, chains=4, n_jobs=4\n",
    "    )\n",
    "    return fit\n",
    "end"
   ]
  },
  {
   "cell_type": "code",
   "execution_count": null,
   "metadata": {},
   "outputs": [],
   "source": [
    "# かなり時間がかかる。\n",
    "@btime res = fit_sm(model)"
   ]
  },
  {
   "cell_type": "code",
   "execution_count": null,
   "metadata": {},
   "outputs": [],
   "source": []
  }
 ],
 "metadata": {
  "kernelspec": {
   "display_name": "Julia 1.3.1",
   "language": "julia",
   "name": "julia-1.3"
  },
  "language_info": {
   "file_extension": ".jl",
   "mimetype": "application/julia",
   "name": "julia",
   "version": "1.3.1"
  }
 },
 "nbformat": 4,
 "nbformat_minor": 4
}
